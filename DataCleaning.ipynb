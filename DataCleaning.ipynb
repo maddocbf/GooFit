{
  "nbformat": 4,
  "nbformat_minor": 0,
  "metadata": {
    "colab": {
      "name": "DataCleaning.ipynb",
      "provenance": [],
      "include_colab_link": true
    },
    "kernelspec": {
      "name": "python3",
      "display_name": "Python 3"
    }
  },
  "cells": [
    {
      "cell_type": "markdown",
      "metadata": {
        "id": "view-in-github",
        "colab_type": "text"
      },
      "source": [
        "<a href=\"https://colab.research.google.com/github/maddocbf/GooFit/blob/master/DataCleaning.ipynb\" target=\"_parent\"><img src=\"https://colab.research.google.com/assets/colab-badge.svg\" alt=\"Open In Colab\"/></a>"
      ]
    },
    {
      "cell_type": "markdown",
      "metadata": {
        "id": "hcGdmsB8IEE-",
        "colab_type": "text"
      },
      "source": [
        "DE = Defensive End,\n",
        "DT = Defensive Tackle,\n",
        "CB = Cornerback,\n",
        "FS = Free Saftey,\n",
        "LB = Linebacker,\n",
        "SS = Strong Saftey"
      ]
    },
    {
      "cell_type": "markdown",
      "metadata": {
        "id": "PvWGTxzmJFy5",
        "colab_type": "text"
      },
      "source": [
        "\"Offense Roles\"\n",
        "RB = Running Back, \n",
        "QB = Quarterback,\n",
        "WR = Wide Reciever, \n",
        "TE = Tight End\n",
        "\n",
        "\"Defense Roles\"\n",
        "LT = Left Tackle,\n",
        "LG = Left Gaurd, \n",
        "C = Center, \n",
        "RG = Right Gaurd, \n",
        "RT = Right Tackle"
      ]
    },
    {
      "cell_type": "code",
      "metadata": {
        "id": "hGreoEuQhzec",
        "colab_type": "code",
        "outputId": "6098b65a-a608-4840-fc62-9393b52d03af",
        "colab": {
          "base_uri": "https://localhost:8080/",
          "height": 68
        }
      },
      "source": [
        "import numpy as np\n",
        "import pandas as pd\n",
        "import matplotlib.pyplot as plt\n",
        "from string import punctuation\n",
        "import re\n",
        "\n",
        "pd.set_option('display.max_columns', 300)\n",
        "pd.set_option('display.max_rows', 300)\n",
        "\n",
        "from google.colab import drive \n",
        "drive.mount('/content/gdrive')\n",
        "\n",
        "data = pd.read_csv('/content/gdrive/My Drive/nfl/Kay-Gull Comp/train.csv')"
      ],
      "execution_count": 0,
      "outputs": [
        {
          "output_type": "stream",
          "text": [
            "Drive already mounted at /content/gdrive; to attempt to forcibly remount, call drive.mount(\"/content/gdrive\", force_remount=True).\n"
          ],
          "name": "stdout"
        },
        {
          "output_type": "stream",
          "text": [
            "/usr/local/lib/python3.6/dist-packages/IPython/core/interactiveshell.py:2718: DtypeWarning: Columns (47) have mixed types. Specify dtype option on import or set low_memory=False.\n",
            "  interactivity=interactivity, compiler=compiler, result=result)\n"
          ],
          "name": "stderr"
        }
      ]
    },
    {
      "cell_type": "markdown",
      "metadata": {
        "id": "IycZC-ITYMiC",
        "colab_type": "text"
      },
      "source": [
        "I want to see what just one data entry looks like"
      ]
    },
    {
      "cell_type": "code",
      "metadata": {
        "id": "zrMlGulyYKta",
        "colab_type": "code",
        "outputId": "28c380b9-c3a2-481b-98c5-4d713de35df0",
        "colab": {
          "base_uri": "https://localhost:8080/",
          "height": 867
        }
      },
      "source": [
        "print(data.iloc[0])"
      ],
      "execution_count": 0,
      "outputs": [
        {
          "output_type": "stream",
          "text": [
            "GameId                                  2017090700\n",
            "PlayId                              20170907000118\n",
            "Team                                          away\n",
            "X                                            73.91\n",
            "Y                                            34.84\n",
            "S                                             1.69\n",
            "A                                             1.13\n",
            "Dis                                            0.4\n",
            "Orientation                                  81.99\n",
            "Dir                                         177.18\n",
            "NflId                                       496723\n",
            "DisplayName                             Eric Berry\n",
            "JerseyNumber                                    29\n",
            "Season                                        2017\n",
            "YardLine                                        35\n",
            "Quarter                                          1\n",
            "GameClock                                 14:14:00\n",
            "PossessionTeam                                  NE\n",
            "Down                                             3\n",
            "Distance                                         2\n",
            "FieldPosition                                   NE\n",
            "HomeScoreBeforePlay                              0\n",
            "VisitorScoreBeforePlay                           0\n",
            "NflIdRusher                                2543773\n",
            "OffenseFormation                           SHOTGUN\n",
            "OffensePersonnel                  1 RB, 1 TE, 3 WR\n",
            "DefendersInTheBox                                6\n",
            "DefensePersonnel                  2 DL, 3 LB, 6 DB\n",
            "PlayDirection                                 left\n",
            "TimeHandoff               2017-09-08T00:44:06.000Z\n",
            "TimeSnap                  2017-09-08T00:44:05.000Z\n",
            "Yards                                            8\n",
            "PlayerHeight                                    72\n",
            "PlayerWeight                                   212\n",
            "PlayerBirthDate                         12/29/1988\n",
            "PlayerCollegeName                        Tennessee\n",
            "Position                                        SS\n",
            "HomeTeamAbbr                                    NE\n",
            "VisitorTeamAbbr                                 KC\n",
            "Week                                             1\n",
            "Stadium                           Gillette Stadium\n",
            "Location                            Foxborough, MA\n",
            "StadiumType                                Outdoor\n",
            "Turf                                    Field Turf\n",
            "GameWeather                         Clear and warm\n",
            "Temperature                                     63\n",
            "Humidity                                        77\n",
            "WindSpeed                                        8\n",
            "WindDirection                                   SW\n",
            "Name: 0, dtype: object\n"
          ],
          "name": "stdout"
        }
      ]
    },
    {
      "cell_type": "markdown",
      "metadata": {
        "id": "acDsbrpQXmZl",
        "colab_type": "text"
      },
      "source": [
        "First, let's make a list possible things we need to fix. In order to do this we will list all the variable counts as to help inconsistencies. We will start with non-numerical entries\n",
        "\n",
        "This gives us some fixes: \n",
        "\n",
        "Team Abbrevations (done)\n",
        "\n",
        "Positions\n",
        "\n",
        "Stadium Names (probably don't care)\n",
        "\n",
        "Location (probably don't care)\n",
        "\n",
        "Game Weather\n",
        "\n",
        "Stadium Type (done)\n",
        "\n",
        "Wind Direction\n",
        "\n"
      ]
    },
    {
      "cell_type": "code",
      "metadata": {
        "id": "FeoaTnJUXvK-",
        "colab_type": "code",
        "outputId": "9a29b02c-4db1-4865-8c0e-04b2ab131743",
        "colab": {
          "base_uri": "https://localhost:8080/",
          "height": 1000
        }
      },
      "source": [
        "#\"DisplayName\", \"Team\", \"PossessionTeam\", \"HomeTeamAbbr\", \"VisitorTeamAbbr\",\"Stadium\", \"Location\", \n",
        "non_numerical = [\"FieldPosition\", \"OffenseFormation\", \"PlayDirection\", \"Position\", \"StadiumType\", \"GameWeather\", \"WindDirection\"]\n",
        "for col in non_numerical:\n",
        "  print(data[col].value_counts());"
      ],
      "execution_count": 0,
      "outputs": [
        {
          "output_type": "stream",
          "text": [
            "BUF    17468\n",
            "OAK    17182\n",
            "NYG    17160\n",
            "ARZ    17072\n",
            "MIA    16984\n",
            "NYJ    16896\n",
            "CLV    16676\n",
            "CIN    16588\n",
            "DEN    16566\n",
            "SF     16456\n",
            "SEA    16412\n",
            "HST    16346\n",
            "CHI    16060\n",
            "IND    16038\n",
            "TEN    15972\n",
            "GB     15862\n",
            "LA     15818\n",
            "JAX    15620\n",
            "DAL    15576\n",
            "WAS    15554\n",
            "DET    15444\n",
            "BLT    15356\n",
            "TB     15246\n",
            "MIN    15158\n",
            "LAC    15114\n",
            "ATL    14938\n",
            "KC     14784\n",
            "NE     14718\n",
            "PIT    14366\n",
            "PHI    13442\n",
            "NO     13332\n",
            "CAR    13134\n",
            "Name: FieldPosition, dtype: int64\n",
            "SINGLEBACK    225434\n",
            "SHOTGUN       150964\n",
            "I_FORM        106062\n",
            "PISTOL         13420\n",
            "JUMBO          11462\n",
            "WILDCAT         1782\n",
            "EMPTY            506\n",
            "ACE               22\n",
            "Name: OffenseFormation, dtype: int64\n",
            "left     256454\n",
            "right    253308\n",
            "Name: PlayDirection, dtype: int64\n",
            "CB     56686\n",
            "WR     53325\n",
            "G      42114\n",
            "T      42046\n",
            "DE     35890\n",
            "DT     35637\n",
            "OLB    34110\n",
            "TE     33237\n",
            "FS     24607\n",
            "C      24062\n",
            "RB     23908\n",
            "QB     23290\n",
            "SS     20540\n",
            "ILB    18541\n",
            "MLB    10208\n",
            "NT      8226\n",
            "LB      6699\n",
            "OT      6097\n",
            "FB      3211\n",
            "OG      3073\n",
            "DB      1931\n",
            "S       1641\n",
            "HB       647\n",
            "SAF       19\n",
            "DL        17\n",
            "Name: Position, dtype: int64\n",
            "Outdoor                   267696\n",
            "Outdoors                   67474\n",
            "Indoors                    40854\n",
            "Dome                       17336\n",
            "Indoor                     16148\n",
            "Retractable Roof           15884\n",
            "Open                        9614\n",
            "Retr. Roof-Closed           7172\n",
            "Retr. Roof - Closed         6446\n",
            "Domed, closed               5918\n",
            "Domed, open                 2684\n",
            "Closed Dome                 2134\n",
            "Dome, closed                1826\n",
            "Domed                       1826\n",
            "Oudoor                      1188\n",
            "Indoor, Roof Closed         1056\n",
            "Retr. Roof Closed           1056\n",
            "Retr. Roof-Open              990\n",
            "Bowl                         968\n",
            "Outddors                     968\n",
            "Heinz Field                  902\n",
            "Outdoor Retr Roof-Open       880\n",
            "Retr. Roof - Open            880\n",
            "Indoor, Open Roof            858\n",
            "Ourdoor                      858\n",
            "Outdor                       858\n",
            "Outside                      814\n",
            "Domed, Open                  770\n",
            "Cloudy                       770\n",
            "Name: StadiumType, dtype: int64\n",
            "Cloudy                                                                              114466\n",
            "Sunny                                                                               105028\n",
            "Partly Cloudy                                                                        46068\n",
            "Clear                                                                                44264\n",
            "Rain                                                                                 18898\n",
            "Mostly Cloudy                                                                        18216\n",
            "Controlled Climate                                                                   12540\n",
            "N/A (Indoors)                                                                        10868\n",
            "Indoor                                                                                6182\n",
            "Mostly Sunny                                                                          5918\n",
            "Indoors                                                                               5676\n",
            "Partly Sunny                                                                          5368\n",
            "Fair                                                                                  4972\n",
            "N/A Indoor                                                                            4224\n",
            "Mostly cloudy                                                                         4026\n",
            "Hazy                                                                                  3124\n",
            "Light Rain                                                                            2772\n",
            "Overcast                                                                              2156\n",
            "Partly sunny                                                                          2156\n",
            "Clear skies                                                                           2112\n",
            "Snow                                                                                  2002\n",
            "Clear Skies                                                                           1980\n",
            "Partly cloudy                                                                         1980\n",
            "cloudy                                                                                1870\n",
            "Heavy lake effect snow                                                                1870\n",
            "Mostly sunny                                                                          1716\n",
            "Clear and cold                                                                        1276\n",
            "Cloudy and Cool                                                                       1232\n",
            "Rain shower                                                                           1188\n",
            "Sunny and warm                                                                        1166\n",
            "Mostly Coudy                                                                          1144\n",
            "30% Chance of Rain                                                                    1144\n",
            "Clear and warm                                                                        1144\n",
            "Cold                                                                                  1144\n",
            "Sunny, highs to upper 80s                                                             1100\n",
            "Cloudy, Rain                                                                          1100\n",
            "Partly Clouidy                                                                        1100\n",
            "Scattered Showers                                                                     1100\n",
            "Cloudy, fog started developing in 2nd quarter                                         1100\n",
            "Cloudy and cold                                                                       1100\n",
            "Mostly Sunny Skies                                                                    1100\n",
            "Rain likely, temps in low 40s.                                                        1078\n",
            "Clear and sunny                                                                       1078\n",
            "Clear and Cool                                                                        1034\n",
            "Cloudy, 50% change of rain                                                            1034\n",
            "Sunny Skies                                                                           1012\n",
            "Sunny and cold                                                                         990\n",
            "Clear and Sunny                                                                        990\n",
            "Coudy                                                                                  990\n",
            "Sun & clouds                                                                           968\n",
            "Sunny and clear                                                                        946\n",
            "Cloudy with periods of rain, thunder possible. Winds shifting to WNW, 10-20 mph.       946\n",
            "T: 51; H: 55; W: NW 10 mph                                                             924\n",
            "Cloudy, chance of rain                                                                 902\n",
            "Showers                                                                                880\n",
            "Rain Chance 40%                                                                        836\n",
            "Cloudy, light snow accumulating 1-3\"                                                   836\n",
            "Party Cloudy                                                                           814\n",
            "Sunny, Windy                                                                           792\n",
            "Partly clear                                                                           770\n",
            "Rainy                                                                                  704\n",
            "Name: GameWeather, dtype: int64\n",
            "NE                 30250\n",
            "NW                 27236\n",
            "SW                 25828\n",
            "SE                 25784\n",
            "WSW                24222\n",
            "N                  23188\n",
            "W                  22198\n",
            "S                  21384\n",
            "NNE                20394\n",
            "South              20328\n",
            "SSW                19910\n",
            "WNW                19118\n",
            "North              17182\n",
            "NNW                14036\n",
            "West               13618\n",
            "SSE                13376\n",
            "E                  12826\n",
            "ENE                10802\n",
            "ESE                 9878\n",
            "East                7348\n",
            "Northwest           4070\n",
            "From SW             3872\n",
            "Northeast           3652\n",
            "NorthEast           3212\n",
            "From S              3146\n",
            "s                   2728\n",
            "SouthWest           2134\n",
            "Southeast           1936\n",
            "W-NW                1804\n",
            "Southwest           1804\n",
            "West-Southwest      1386\n",
            "8                   1144\n",
            "1                   1122\n",
            "North East          1100\n",
            "East Southeast      1078\n",
            "West Northwest      1056\n",
            "Calm                1056\n",
            "N-NE                1012\n",
            "From W               990\n",
            "From NNE             968\n",
            "From SSW             968\n",
            "W-SW                 968\n",
            "North/Northwest      968\n",
            "From WSW             946\n",
            "South Southeast      946\n",
            "From NNW             924\n",
            "EAST                 902\n",
            "From SSE             880\n",
            "South Southwest      858\n",
            "13                   836\n",
            "East North East      748\n",
            "from W               726\n",
            "From ESE             682\n",
            "Name: WindDirection, dtype: int64\n"
          ],
          "name": "stdout"
        }
      ]
    },
    {
      "cell_type": "markdown",
      "metadata": {
        "id": "a83bx3O2hnzA",
        "colab_type": "text"
      },
      "source": [
        "Find the problematic team abbreviations"
      ]
    },
    {
      "cell_type": "code",
      "metadata": {
        "id": "2kmoIt6Ec540",
        "colab_type": "code",
        "colab": {}
      },
      "source": [
        "setA = data['PossessionTeam'].value_counts()\n",
        "setA = setA.index.tolist()\n",
        "setB = data['HomeTeamAbbr'].value_counts()\n",
        "setB = setB.index.tolist()\n",
        "\n",
        "print(np.setdiff1d(setA, setB))\n",
        "print(setB)"
      ],
      "execution_count": 0,
      "outputs": []
    },
    {
      "cell_type": "markdown",
      "metadata": {
        "id": "j21qmXJNXVrr",
        "colab_type": "text"
      },
      "source": [
        "First, Let's change the heights to all out of inches "
      ]
    },
    {
      "cell_type": "code",
      "metadata": {
        "id": "Kbt1fE4_LwLn",
        "colab_type": "code",
        "colab": {}
      },
      "source": [
        "def convert_heights(txt):\n",
        "  ft, inch = txt.split(\"-\")\n",
        "  return int(ft)*12 + int(inch)\n",
        "  \n",
        "data[\"PlayerHeight\"] = data[\"PlayerHeight\"].apply(convert_heights)"
      ],
      "execution_count": 0,
      "outputs": []
    },
    {
      "cell_type": "code",
      "metadata": {
        "id": "o8YaWUHzL4IP",
        "colab_type": "code",
        "colab": {}
      },
      "source": [
        "def clean_abbrevs(txt):\n",
        "  txt = txt.replace('CLV', 'CLE')\n",
        "  txt = txt.replace('BLT', 'BAL')\n",
        "  txt = txt.replace('ARZ', 'ARI')\n",
        "  txt = txt.replace('HST', 'HOU')\n",
        "data = data.apply(clean_abbrevs)\n"
      ],
      "execution_count": 0,
      "outputs": []
    },
    {
      "cell_type": "code",
      "metadata": {
        "id": "eXwsOf5NjIk6",
        "colab_type": "code",
        "colab": {}
      },
      "source": [
        "def clean_StadiumType(txt):\n",
        "    if pd.isna(txt):\n",
        "        return np.nan\n",
        "    txt = txt.lower()\n",
        "    txt = ''.join([c for c in txt if c not in punctuation])\n",
        "    txt = re.sub(' +', ' ', txt)\n",
        "    txt = txt.strip()\n",
        "    txt = txt.replace('outside', 'outdoor')\n",
        "    txt = txt.replace('outdor', 'outdoor')\n",
        "    txt = txt.replace('outddors', 'outdoor')\n",
        "    txt = txt.replace('outdoors', 'outdoor')\n",
        "    txt = txt.replace('oudoor', 'outdoor')\n",
        "    txt = txt.replace('indoors', 'indoor')\n",
        "    txt = txt.replace('ourdoor', 'outdoor')\n",
        "    txt = txt.replace('retractable', 'rtr.')\n",
        "    txt = txt.replace('dome closed', 'indoor')\n",
        "    txt = txt.replace('closed dome', 'indoor')\n",
        "    txt = txt.replace('open', 'outdoor')\n",
        "    txt = txt.replace('indoor roof closed','indoor')\n",
        "    txt = txt.replace('outdoor retr roofopen', 'outdoor')\n",
        "    txt = txt.replace('indoor open roof', 'outdoor')\n",
        "    txt = txt.replace('cloudy', 'outdoor')\n",
        "    txt = txt.replace('outdoor retr roofoutdoor', 'outdoor')\n",
        "    txt = txt.replace('retr roof closed', 'indoor')\n",
        "    txt = txt.replace('retr roofclosed', 'indoor')\n",
        "    txt = txt.replace('indoor outdoor roof', 'rtr roof')\n",
        "    txt = txt.replace('domed closed', 'indoor')\n",
        "    txt = txt.replace('domed outdoor', 'outdoor')\n",
        "    txt = txt.replace('domed', 'rtr roof')\n",
        "    txt = txt.replace('dome', 'rtr roof')\n",
        "    txt = txt.replace('retr roofoutdoor', 'outdoor')\n",
        "    txt = txt.replace('heinz field', 'outdoor')\n",
        "    txt = txt.replace('retr roof outdoor', 'outdoor')\n",
        "    return txt\n",
        "data['StadiumType'] = data['StadiumType'].apply(clean_StadiumType)"
      ],
      "execution_count": 0,
      "outputs": []
    },
    {
      "cell_type": "code",
      "metadata": {
        "id": "ZO9FrGLRj1yo",
        "colab_type": "code",
        "outputId": "23175f13-94f2-4c67-e159-86ea33819449",
        "colab": {
          "base_uri": "https://localhost:8080/",
          "height": 374
        }
      },
      "source": [
        "data['Position'].value_counts()"
      ],
      "execution_count": 0,
      "outputs": [
        {
          "output_type": "execute_result",
          "data": {
            "text/plain": [
              "TE     75283\n",
              "CB     56686\n",
              "WR     53325\n",
              "SA     48738\n",
              "G      42114\n",
              "DE     35890\n",
              "DT     35637\n",
              "OLB    34110\n",
              "C      24062\n",
              "RB     23908\n",
              "QB     23290\n",
              "ILB    18541\n",
              "MLB    10208\n",
              "NT      8226\n",
              "LB      6699\n",
              "OT      6097\n",
              "FB      3211\n",
              "OG      3073\n",
              "HB       647\n",
              "DLB       17\n",
              "Name: Position, dtype: int64"
            ]
          },
          "metadata": {
            "tags": []
          },
          "execution_count": 97
        }
      ]
    },
    {
      "cell_type": "code",
      "metadata": {
        "id": "JahZGxM6mWVI",
        "colab_type": "code",
        "colab": {}
      },
      "source": [
        "def clean_Position(txt):\n",
        "  if txt == 'T':\n",
        "    txt = txt.replace('T', 'TE')\n",
        "  if txt == 'S':\n",
        "    txt = txt.replace('S', 'SA')\n",
        "  if txt == 'SS':\n",
        "    txt = txt.replace('SS', 'SA')\n",
        "  if txt == 'FS':\n",
        "    txt = txt.replace('FS', 'SA')\n",
        "  if txt == 'DB':\n",
        "    txt = txt.replace('DB', 'SA')\n",
        "  if txt == 'DL':\n",
        "    txt = txt.replace('DL', 'DLB')\n",
        "  if txt == 'SAF':\n",
        "    txt = txt.replace('SAF', 'SA')\n",
        "  if txt == 'DE':\n",
        "    txt = txt.replace('T', 'TE')\n",
        "\n",
        "\n",
        "  return txt\n",
        "data['Position'] = data['Position'].apply(clean_Position)"
      ],
      "execution_count": 0,
      "outputs": []
    },
    {
      "cell_type": "code",
      "metadata": {
        "id": "BfX6dtlsoXpo",
        "colab_type": "code",
        "outputId": "f80c0ec8-a120-42d5-a2b5-2142a740b158",
        "colab": {
          "base_uri": "https://localhost:8080/",
          "height": 300
        }
      },
      "source": [
        "data.plot(kind='scatter',x='PlayerWeight',y='Yards',color='red',s=3)"
      ],
      "execution_count": 0,
      "outputs": [
        {
          "output_type": "execute_result",
          "data": {
            "text/plain": [
              "<matplotlib.axes._subplots.AxesSubplot at 0x7ffb80ed1240>"
            ]
          },
          "metadata": {
            "tags": []
          },
          "execution_count": 6
        },
        {
          "output_type": "display_data",
          "data": {
            "image/png": "[encoded data removed]",
            "text/plain": [
              "<Figure size 432x288 with 1 Axes>"
            ]
          },
          "metadata": {
            "tags": []
          }
        }
      ]
    },
    {
      "cell_type": "code",
      "metadata": {
        "id": "_oLi9Ig37Mhs",
        "colab_type": "code",
        "outputId": "16cc3d4a-d8c0-4e1e-ed79-120675b14f23",
        "colab": {
          "base_uri": "https://localhost:8080/",
          "height": 300
        }
      },
      "source": [
        "data.plot(kind='scatter',x='Distance',y='Yards',color='red', s = 3)"
      ],
      "execution_count": 0,
      "outputs": [
        {
          "output_type": "execute_result",
          "data": {
            "text/plain": [
              "<matplotlib.axes._subplots.AxesSubplot at 0x7ffb80ec49e8>"
            ]
          },
          "metadata": {
            "tags": []
          },
          "execution_count": 7
        },
        {
          "output_type": "display_data",
          "data": {
            "image/png": "[encoded data removed]",
            "text/plain": [
              "<Figure size 432x288 with 1 Axes>"
            ]
          },
          "metadata": {
            "tags": []
          }
        }
      ]
    },
    {
      "cell_type": "code",
      "metadata": {
        "id": "vgpo9b_I_wKZ",
        "colab_type": "code",
        "outputId": "9076706c-5dad-4b9a-9a70-b287882c8e41",
        "colab": {
          "base_uri": "https://localhost:8080/",
          "height": 1000
        }
      },
      "source": [
        "playsAtDistance = np.zeros(199)\n",
        "for i in range(-99, 99):\n",
        "  #print(data[data.Distance==i].shape[0])\n",
        "  playsAtDistance[i+99] = data[data.Distance==i].shape[0]\n",
        "print(playsAtDistance)\n",
        "\n",
        "playsAtYards = np.zeros(199)\n",
        "for i in range(-99, 99):\n",
        "  #print(data[data.Distance==i].shape[0])\n",
        "  playsAtYards[i+99] = data[data.Yards==i].shape[0]\n",
        "print(playsAtYards)"
      ],
      "execution_count": 0,
      "outputs": [
        {
          "output_type": "stream",
          "text": [
            "[0.00000e+00 0.00000e+00 0.00000e+00 0.00000e+00 0.00000e+00 0.00000e+00\n",
            " 0.00000e+00 0.00000e+00 0.00000e+00 0.00000e+00 0.00000e+00 0.00000e+00\n",
            " 0.00000e+00 0.00000e+00 0.00000e+00 0.00000e+00 0.00000e+00 0.00000e+00\n",
            " 0.00000e+00 0.00000e+00 0.00000e+00 0.00000e+00 0.00000e+00 0.00000e+00\n",
            " 0.00000e+00 0.00000e+00 0.00000e+00 0.00000e+00 0.00000e+00 0.00000e+00\n",
            " 0.00000e+00 0.00000e+00 0.00000e+00 0.00000e+00 0.00000e+00 0.00000e+00\n",
            " 0.00000e+00 0.00000e+00 0.00000e+00 0.00000e+00 0.00000e+00 0.00000e+00\n",
            " 0.00000e+00 0.00000e+00 0.00000e+00 0.00000e+00 0.00000e+00 0.00000e+00\n",
            " 0.00000e+00 0.00000e+00 0.00000e+00 0.00000e+00 0.00000e+00 0.00000e+00\n",
            " 0.00000e+00 0.00000e+00 0.00000e+00 0.00000e+00 0.00000e+00 0.00000e+00\n",
            " 0.00000e+00 0.00000e+00 0.00000e+00 0.00000e+00 0.00000e+00 0.00000e+00\n",
            " 0.00000e+00 0.00000e+00 0.00000e+00 0.00000e+00 0.00000e+00 0.00000e+00\n",
            " 0.00000e+00 0.00000e+00 0.00000e+00 0.00000e+00 0.00000e+00 0.00000e+00\n",
            " 0.00000e+00 0.00000e+00 0.00000e+00 0.00000e+00 0.00000e+00 0.00000e+00\n",
            " 0.00000e+00 0.00000e+00 0.00000e+00 0.00000e+00 0.00000e+00 0.00000e+00\n",
            " 0.00000e+00 0.00000e+00 0.00000e+00 0.00000e+00 0.00000e+00 0.00000e+00\n",
            " 0.00000e+00 0.00000e+00 0.00000e+00 0.00000e+00 4.19540e+04 1.98880e+04\n",
            " 1.69400e+04 1.79300e+04 2.00420e+04 1.72260e+04 1.63240e+04 1.56420e+04\n",
            " 1.30460e+04 3.01752e+05 4.53200e+03 3.43200e+03 2.28800e+03 1.84800e+03\n",
            " 4.81800e+03 1.16600e+03 1.27600e+03 1.45200e+03 1.18800e+03 3.96000e+03\n",
            " 4.84000e+02 4.40000e+02 4.18000e+02 2.86000e+02 4.40000e+02 2.20000e+02\n",
            " 1.76000e+02 1.32000e+02 8.80000e+01 1.10000e+02 4.40000e+01 0.00000e+00\n",
            " 6.60000e+01 2.20000e+01 6.60000e+01 0.00000e+00 0.00000e+00 0.00000e+00\n",
            " 0.00000e+00 6.60000e+01 0.00000e+00 0.00000e+00 0.00000e+00 0.00000e+00\n",
            " 0.00000e+00 0.00000e+00 0.00000e+00 0.00000e+00 0.00000e+00 0.00000e+00\n",
            " 0.00000e+00 0.00000e+00 0.00000e+00 0.00000e+00 0.00000e+00 0.00000e+00\n",
            " 0.00000e+00 0.00000e+00 0.00000e+00 0.00000e+00 0.00000e+00 0.00000e+00\n",
            " 0.00000e+00 0.00000e+00 0.00000e+00 0.00000e+00 0.00000e+00 0.00000e+00\n",
            " 0.00000e+00 0.00000e+00 0.00000e+00 0.00000e+00 0.00000e+00 0.00000e+00\n",
            " 0.00000e+00 0.00000e+00 0.00000e+00 0.00000e+00 0.00000e+00 0.00000e+00\n",
            " 0.00000e+00 0.00000e+00 0.00000e+00 0.00000e+00 0.00000e+00 0.00000e+00\n",
            " 0.00000e+00 0.00000e+00 0.00000e+00 0.00000e+00 0.00000e+00 0.00000e+00\n",
            " 0.00000e+00 0.00000e+00 0.00000e+00 0.00000e+00 0.00000e+00 0.00000e+00\n",
            " 0.00000e+00]\n",
            "[0.0000e+00 0.0000e+00 0.0000e+00 0.0000e+00 0.0000e+00 0.0000e+00\n",
            " 0.0000e+00 0.0000e+00 0.0000e+00 0.0000e+00 0.0000e+00 0.0000e+00\n",
            " 0.0000e+00 0.0000e+00 0.0000e+00 0.0000e+00 0.0000e+00 0.0000e+00\n",
            " 0.0000e+00 0.0000e+00 0.0000e+00 0.0000e+00 0.0000e+00 0.0000e+00\n",
            " 0.0000e+00 0.0000e+00 0.0000e+00 0.0000e+00 0.0000e+00 0.0000e+00\n",
            " 0.0000e+00 0.0000e+00 0.0000e+00 0.0000e+00 0.0000e+00 0.0000e+00\n",
            " 0.0000e+00 0.0000e+00 0.0000e+00 0.0000e+00 0.0000e+00 0.0000e+00\n",
            " 0.0000e+00 0.0000e+00 0.0000e+00 0.0000e+00 0.0000e+00 0.0000e+00\n",
            " 0.0000e+00 0.0000e+00 0.0000e+00 0.0000e+00 0.0000e+00 0.0000e+00\n",
            " 0.0000e+00 0.0000e+00 0.0000e+00 0.0000e+00 0.0000e+00 0.0000e+00\n",
            " 0.0000e+00 0.0000e+00 0.0000e+00 0.0000e+00 0.0000e+00 0.0000e+00\n",
            " 0.0000e+00 0.0000e+00 0.0000e+00 0.0000e+00 0.0000e+00 0.0000e+00\n",
            " 0.0000e+00 0.0000e+00 0.0000e+00 0.0000e+00 0.0000e+00 0.0000e+00\n",
            " 0.0000e+00 0.0000e+00 0.0000e+00 0.0000e+00 0.0000e+00 0.0000e+00\n",
            " 0.0000e+00 2.2000e+01 0.0000e+00 8.8000e+01 4.4000e+01 8.8000e+01\n",
            " 1.7600e+02 1.9800e+02 7.0400e+02 1.1660e+03 2.4860e+03 5.5660e+03\n",
            " 8.3380e+03 1.4674e+04 2.2792e+04 4.7190e+04 6.0544e+04 6.5692e+04\n",
            " 5.8652e+04 5.1502e+04 3.8742e+04 2.6862e+04 2.0020e+04 1.4652e+04\n",
            " 1.4476e+04 7.1940e+03 8.5580e+03 5.2360e+03 4.2460e+03 4.5760e+03\n",
            " 3.3000e+03 3.0360e+03 2.3980e+03 1.9800e+03 1.3860e+03 1.6280e+03\n",
            " 1.7820e+03 7.7000e+02 8.3600e+02 6.8200e+02 8.3600e+02 5.0600e+02\n",
            " 5.0600e+02 3.9600e+02 3.7400e+02 3.9600e+02 2.6400e+02 3.7400e+02\n",
            " 3.0800e+02 3.7400e+02 1.9800e+02 2.2000e+02 1.5400e+02 8.8000e+01\n",
            " 4.4000e+01 6.6000e+01 1.5400e+02 6.6000e+01 1.3200e+02 4.4000e+01\n",
            " 6.6000e+01 1.3200e+02 6.6000e+01 4.4000e+01 4.4000e+01 1.1000e+02\n",
            " 1.3200e+02 1.1000e+02 1.3200e+02 8.8000e+01 0.0000e+00 2.2000e+01\n",
            " 4.4000e+01 8.8000e+01 4.4000e+01 4.4000e+01 6.6000e+01 2.2000e+01\n",
            " 2.2000e+01 2.2000e+01 4.4000e+01 4.4000e+01 2.2000e+01 6.6000e+01\n",
            " 6.6000e+01 4.4000e+01 4.4000e+01 4.4000e+01 0.0000e+00 2.2000e+01\n",
            " 1.1000e+02 0.0000e+00 2.2000e+01 2.2000e+01 0.0000e+00 0.0000e+00\n",
            " 0.0000e+00 0.0000e+00 0.0000e+00 0.0000e+00 0.0000e+00 0.0000e+00\n",
            " 2.2000e+01 0.0000e+00 0.0000e+00 4.4000e+01 0.0000e+00 2.2000e+01\n",
            " 0.0000e+00 0.0000e+00 0.0000e+00 0.0000e+00 2.2000e+01 0.0000e+00\n",
            " 0.0000e+00]\n"
          ],
          "name": "stdout"
        }
      ]
    },
    {
      "cell_type": "code",
      "metadata": {
        "id": "X2pLv170DLIn",
        "colab_type": "code",
        "outputId": "a6f0c7aa-2080-45a2-e454-8ecfa7324419",
        "colab": {
          "base_uri": "https://localhost:8080/",
          "height": 323
        }
      },
      "source": [
        "print(data.OffenseFormation.unique())\n",
        "print(data.DefensePersonnel.unique())\n",
        "print(data.Distance.unique())\n",
        "print(data.PlayDirection.unique())"
      ],
      "execution_count": 0,
      "outputs": [
        {
          "output_type": "stream",
          "text": [
            "['SHOTGUN' 'SINGLEBACK' 'JUMBO' 'PISTOL' 'I_FORM' 'ACE' 'WILDCAT' nan\n",
            " 'EMPTY']\n",
            "['2 DL, 3 LB, 6 DB' '4 DL, 4 LB, 3 DB' '3 DL, 2 LB, 6 DB'\n",
            " '3 DL, 4 LB, 4 DB' '3 DL, 3 LB, 5 DB' '4 DL, 3 LB, 4 DB'\n",
            " '4 DL, 1 LB, 6 DB' '4 DL, 2 LB, 5 DB' '5 DL, 2 LB, 4 DB'\n",
            " '2 DL, 4 LB, 5 DB' '2 DL, 5 LB, 4 DB' '5 DL, 4 LB, 2 DB'\n",
            " '1 DL, 5 LB, 5 DB' '5 DL, 3 LB, 3 DB' '6 DL, 2 LB, 3 DB'\n",
            " '3 DL, 5 LB, 3 DB' '6 DL, 3 LB, 2 DB' '1 DL, 3 LB, 7 DB'\n",
            " '2 DL, 2 LB, 7 DB' '4 DL, 5 LB, 2 DB' '1 DL, 4 LB, 6 DB'\n",
            " '4 DL, 5 LB, 1 DB, 1 OL' '6 DL, 1 LB, 4 DB' '2 DL, 4 LB, 4 DB, 1 OL'\n",
            " '6 DL, 4 LB, 1 DB' '5 DL, 1 LB, 5 DB' '4 DL, 6 LB, 1 DB'\n",
            " '0 DL, 5 LB, 6 DB' '5 DL, 4 LB, 1 DB, 1 OL' '3 DL, 1 LB, 7 DB'\n",
            " '4 DL, 0 LB, 7 DB' '3 DL, 4 LB, 3 DB, 1 OL' '5 DL, 5 LB, 1 DB'\n",
            " '5 DL, 3 LB, 2 DB, 1 OL' '0 DL, 6 LB, 5 DB' '1 DL, 2 LB, 8 DB'\n",
            " '0 DL, 4 LB, 7 DB' '7 DL, 2 LB, 2 DB']\n",
            "[ 2 10  7  1  9  5  6 14  8 12  3  4 15 21 17 20 13 16 11 23 19 26 24 18\n",
            " 25 30 31 28 27 40 35 33 22 34 29]\n",
            "['left' 'right']\n"
          ],
          "name": "stdout"
        }
      ]
    },
    {
      "cell_type": "code",
      "metadata": {
        "id": "YLAaJuHZDp3I",
        "colab_type": "code",
        "outputId": "e20eb14d-cc9e-4b4a-9eb3-da860e8f9bf2",
        "colab": {
          "base_uri": "https://localhost:8080/",
          "height": 1000
        }
      },
      "source": [
        "print(data[data.Yards==99])"
      ],
      "execution_count": 0,
      "outputs": [
        {
          "output_type": "stream",
          "text": [
            "            GameId          PlayId  Team      X      Y     S     A   Dis  \\\n",
            "447216  2018120600  20181206001238  away  10.36  21.05  1.08  2.44  0.12   \n",
            "447217  2018120600  20181206001238  away  11.93  23.18  0.50  0.54  0.04   \n",
            "447218  2018120600  20181206001238  away  11.60  32.03  3.70  4.11  0.35   \n",
            "447219  2018120600  20181206001238  away  12.01  25.12  0.79  0.93  0.08   \n",
            "447220  2018120600  20181206001238  away  26.68  25.29  1.94  3.29  0.18   \n",
            "447221  2018120600  20181206001238  away  13.98  27.15  2.98  1.08  0.29   \n",
            "447222  2018120600  20181206001238  away  13.70   9.57  3.40  2.42  0.33   \n",
            "447223  2018120600  20181206001238  away  13.65  23.82  2.47  0.35  0.24   \n",
            "447224  2018120600  20181206001238  away  11.52  26.51  1.34  1.48  0.13   \n",
            "447225  2018120600  20181206001238  away  10.65  17.63  2.89  2.17  0.29   \n",
            "447226  2018120600  20181206001238  away  11.37  28.67  2.72  1.13  0.27   \n",
            "447227  2018120600  20181206001238  home  10.83  26.72  2.47  0.85  0.24   \n",
            "447228  2018120600  20181206001238  home  11.13  23.65  0.64  0.87  0.07   \n",
            "447229  2018120600  20181206001238  home   9.77  21.18  0.60  2.21  0.06   \n",
            "447230  2018120600  20181206001238  home  11.47  24.95  1.87  1.20  0.17   \n",
            "447231  2018120600  20181206001238  home  10.69  27.77  2.95  0.69  0.29   \n",
            "447232  2018120600  20181206001238  home   7.11  23.63  4.49  2.08  0.44   \n",
            "447233  2018120600  20181206001238  home  11.64  24.49  1.99  0.45  0.19   \n",
            "447234  2018120600  20181206001238  home  10.15  18.55  2.14  1.09  0.20   \n",
            "447235  2018120600  20181206001238  home   6.00  24.39  3.77  2.41  0.37   \n",
            "447236  2018120600  20181206001238  home  11.70   9.37  3.93  1.93  0.38   \n",
            "447237  2018120600  20181206001238  home  10.29  28.48  3.81  0.50  0.38   \n",
            "\n",
            "        Orientation     Dir    NflId      DisplayName  JerseyNumber  Season  \\\n",
            "447216       277.86  297.77      744  Calais Campbell            93    2018   \n",
            "447217       287.59  155.46  2495478   Marcell Dareus            99    2018   \n",
            "447218       215.57  203.15  2532848   Tashaun Gipson            39    2018   \n",
            "447219       186.12  140.97  2532873    Malik Jackson            97    2018   \n",
            "447220       267.76  104.38  2541162       A.J. Bouye            21    2018   \n",
            "447221       234.67  234.64  2543711     Telvin Smith            50    2018   \n",
            "447222       253.48  122.38  2555280     Jalen Ramsey            20    2018   \n",
            "447223       274.77  257.13  2555329       Myles Jack            44    2018   \n",
            "447224       299.20  167.01  2555421  Yannick Ngakoue            91    2018   \n",
            "447225       307.97  222.17  2560758      Leon Jacobs            48    2018   \n",
            "447226       190.43  210.61  2561008  Ronnie Harrison            36    2018   \n",
            "447227        75.75  142.99  2495234     Luke Stocker            88    2018   \n",
            "447228        41.66  134.18  2532883        Ben Jones            60    2018   \n",
            "447229       117.75  245.00  2541142       Josh Kline            64    2018   \n",
            "447230        54.30  135.17  2550132     Taylor Lewan            77    2018   \n",
            "447231        88.74  131.97  2552401    MyCole Pruitt            85    2018   \n",
            "447232       187.78  264.46  2552466   Marcus Mariota             8    2018   \n",
            "447233        83.37  116.65  2553824    Quinton Spain            67    2018   \n",
            "447234       160.61  173.05  2555279     Jack Conklin            78    2018   \n",
            "447235        88.31   87.35  2556075    Derrick Henry            22    2018   \n",
            "447236        55.97  122.12  2557848      Corey Davis            84    2018   \n",
            "447237        80.19  155.92  2558207      Jonnu Smith            81    2018   \n",
            "\n",
            "        YardLine  Quarter GameClock PossessionTeam  Down  Distance  \\\n",
            "447216         1        2  07:25:00            TEN     1        10   \n",
            "447217         1        2  07:25:00            TEN     1        10   \n",
            "447218         1        2  07:25:00            TEN     1        10   \n",
            "447219         1        2  07:25:00            TEN     1        10   \n",
            "447220         1        2  07:25:00            TEN     1        10   \n",
            "447221         1        2  07:25:00            TEN     1        10   \n",
            "447222         1        2  07:25:00            TEN     1        10   \n",
            "447223         1        2  07:25:00            TEN     1        10   \n",
            "447224         1        2  07:25:00            TEN     1        10   \n",
            "447225         1        2  07:25:00            TEN     1        10   \n",
            "447226         1        2  07:25:00            TEN     1        10   \n",
            "447227         1        2  07:25:00            TEN     1        10   \n",
            "447228         1        2  07:25:00            TEN     1        10   \n",
            "447229         1        2  07:25:00            TEN     1        10   \n",
            "447230         1        2  07:25:00            TEN     1        10   \n",
            "447231         1        2  07:25:00            TEN     1        10   \n",
            "447232         1        2  07:25:00            TEN     1        10   \n",
            "447233         1        2  07:25:00            TEN     1        10   \n",
            "447234         1        2  07:25:00            TEN     1        10   \n",
            "447235         1        2  07:25:00            TEN     1        10   \n",
            "447236         1        2  07:25:00            TEN     1        10   \n",
            "447237         1        2  07:25:00            TEN     1        10   \n",
            "\n",
            "       FieldPosition  HomeScoreBeforePlay  VisitorScoreBeforePlay  \\\n",
            "447216           TEN                    7                       2   \n",
            "447217           TEN                    7                       2   \n",
            "447218           TEN                    7                       2   \n",
            "447219           TEN                    7                       2   \n",
            "447220           TEN                    7                       2   \n",
            "447221           TEN                    7                       2   \n",
            "447222           TEN                    7                       2   \n",
            "447223           TEN                    7                       2   \n",
            "447224           TEN                    7                       2   \n",
            "447225           TEN                    7                       2   \n",
            "447226           TEN                    7                       2   \n",
            "447227           TEN                    7                       2   \n",
            "447228           TEN                    7                       2   \n",
            "447229           TEN                    7                       2   \n",
            "447230           TEN                    7                       2   \n",
            "447231           TEN                    7                       2   \n",
            "447232           TEN                    7                       2   \n",
            "447233           TEN                    7                       2   \n",
            "447234           TEN                    7                       2   \n",
            "447235           TEN                    7                       2   \n",
            "447236           TEN                    7                       2   \n",
            "447237           TEN                    7                       2   \n",
            "\n",
            "        NflIdRusher OffenseFormation  OffensePersonnel  DefendersInTheBox  \\\n",
            "447216      2556075       SINGLEBACK  1 RB, 3 TE, 1 WR                7.0   \n",
            "447217      2556075       SINGLEBACK  1 RB, 3 TE, 1 WR                7.0   \n",
            "447218      2556075       SINGLEBACK  1 RB, 3 TE, 1 WR                7.0   \n",
            "447219      2556075       SINGLEBACK  1 RB, 3 TE, 1 WR                7.0   \n",
            "447220      2556075       SINGLEBACK  1 RB, 3 TE, 1 WR                7.0   \n",
            "447221      2556075       SINGLEBACK  1 RB, 3 TE, 1 WR                7.0   \n",
            "447222      2556075       SINGLEBACK  1 RB, 3 TE, 1 WR                7.0   \n",
            "447223      2556075       SINGLEBACK  1 RB, 3 TE, 1 WR                7.0   \n",
            "447224      2556075       SINGLEBACK  1 RB, 3 TE, 1 WR                7.0   \n",
            "447225      2556075       SINGLEBACK  1 RB, 3 TE, 1 WR                7.0   \n",
            "447226      2556075       SINGLEBACK  1 RB, 3 TE, 1 WR                7.0   \n",
            "447227      2556075       SINGLEBACK  1 RB, 3 TE, 1 WR                7.0   \n",
            "447228      2556075       SINGLEBACK  1 RB, 3 TE, 1 WR                7.0   \n",
            "447229      2556075       SINGLEBACK  1 RB, 3 TE, 1 WR                7.0   \n",
            "447230      2556075       SINGLEBACK  1 RB, 3 TE, 1 WR                7.0   \n",
            "447231      2556075       SINGLEBACK  1 RB, 3 TE, 1 WR                7.0   \n",
            "447232      2556075       SINGLEBACK  1 RB, 3 TE, 1 WR                7.0   \n",
            "447233      2556075       SINGLEBACK  1 RB, 3 TE, 1 WR                7.0   \n",
            "447234      2556075       SINGLEBACK  1 RB, 3 TE, 1 WR                7.0   \n",
            "447235      2556075       SINGLEBACK  1 RB, 3 TE, 1 WR                7.0   \n",
            "447236      2556075       SINGLEBACK  1 RB, 3 TE, 1 WR                7.0   \n",
            "447237      2556075       SINGLEBACK  1 RB, 3 TE, 1 WR                7.0   \n",
            "\n",
            "        DefensePersonnel PlayDirection               TimeHandoff  \\\n",
            "447216  4 DL, 3 LB, 4 DB         right  2018-12-07T02:10:14.000Z   \n",
            "447217  4 DL, 3 LB, 4 DB         right  2018-12-07T02:10:14.000Z   \n",
            "447218  4 DL, 3 LB, 4 DB         right  2018-12-07T02:10:14.000Z   \n",
            "447219  4 DL, 3 LB, 4 DB         right  2018-12-07T02:10:14.000Z   \n",
            "447220  4 DL, 3 LB, 4 DB         right  2018-12-07T02:10:14.000Z   \n",
            "447221  4 DL, 3 LB, 4 DB         right  2018-12-07T02:10:14.000Z   \n",
            "447222  4 DL, 3 LB, 4 DB         right  2018-12-07T02:10:14.000Z   \n",
            "447223  4 DL, 3 LB, 4 DB         right  2018-12-07T02:10:14.000Z   \n",
            "447224  4 DL, 3 LB, 4 DB         right  2018-12-07T02:10:14.000Z   \n",
            "447225  4 DL, 3 LB, 4 DB         right  2018-12-07T02:10:14.000Z   \n",
            "447226  4 DL, 3 LB, 4 DB         right  2018-12-07T02:10:14.000Z   \n",
            "447227  4 DL, 3 LB, 4 DB         right  2018-12-07T02:10:14.000Z   \n",
            "447228  4 DL, 3 LB, 4 DB         right  2018-12-07T02:10:14.000Z   \n",
            "447229  4 DL, 3 LB, 4 DB         right  2018-12-07T02:10:14.000Z   \n",
            "447230  4 DL, 3 LB, 4 DB         right  2018-12-07T02:10:14.000Z   \n",
            "447231  4 DL, 3 LB, 4 DB         right  2018-12-07T02:10:14.000Z   \n",
            "447232  4 DL, 3 LB, 4 DB         right  2018-12-07T02:10:14.000Z   \n",
            "447233  4 DL, 3 LB, 4 DB         right  2018-12-07T02:10:14.000Z   \n",
            "447234  4 DL, 3 LB, 4 DB         right  2018-12-07T02:10:14.000Z   \n",
            "447235  4 DL, 3 LB, 4 DB         right  2018-12-07T02:10:14.000Z   \n",
            "447236  4 DL, 3 LB, 4 DB         right  2018-12-07T02:10:14.000Z   \n",
            "447237  4 DL, 3 LB, 4 DB         right  2018-12-07T02:10:14.000Z   \n",
            "\n",
            "                        TimeSnap  Yards PlayerHeight  PlayerWeight  \\\n",
            "447216  2018-12-07T02:10:12.000Z     99          6-8           300   \n",
            "447217  2018-12-07T02:10:12.000Z     99          6-3           331   \n",
            "447218  2018-12-07T02:10:12.000Z     99          6-1           212   \n",
            "447219  2018-12-07T02:10:12.000Z     99          6-5           290   \n",
            "447220  2018-12-07T02:10:12.000Z     99          6-0           191   \n",
            "447221  2018-12-07T02:10:12.000Z     99          6-3           215   \n",
            "447222  2018-12-07T02:10:12.000Z     99          6-1           208   \n",
            "447223  2018-12-07T02:10:12.000Z     99          6-1           244   \n",
            "447224  2018-12-07T02:10:12.000Z     99          6-2           246   \n",
            "447225  2018-12-07T02:10:12.000Z     99          6-2           245   \n",
            "447226  2018-12-07T02:10:12.000Z     99          6-3           214   \n",
            "447227  2018-12-07T02:10:12.000Z     99          6-5           253   \n",
            "447228  2018-12-07T02:10:12.000Z     99          6-3           308   \n",
            "447229  2018-12-07T02:10:12.000Z     99          6-3           300   \n",
            "447230  2018-12-07T02:10:12.000Z     99          6-7           309   \n",
            "447231  2018-12-07T02:10:12.000Z     99          6-2           243   \n",
            "447232  2018-12-07T02:10:12.000Z     99          6-4           222   \n",
            "447233  2018-12-07T02:10:12.000Z     99          6-4           330   \n",
            "447234  2018-12-07T02:10:12.000Z     99          6-6           308   \n",
            "447235  2018-12-07T02:10:12.000Z     99          6-3           247   \n",
            "447236  2018-12-07T02:10:12.000Z     99          6-3           209   \n",
            "447237  2018-12-07T02:10:12.000Z     99          6-3           248   \n",
            "\n",
            "       PlayerBirthDate      PlayerCollegeName Position HomeTeamAbbr  \\\n",
            "447216      09/01/1986                  Miami       DE          TEN   \n",
            "447217      03/13/1990                Alabama       DT          TEN   \n",
            "447218      08/07/1990                Wyoming       FS          TEN   \n",
            "447219      01/11/1990              Tennessee       DT          TEN   \n",
            "447220      08/16/1991        Central Florida       CB          TEN   \n",
            "447221      04/11/1991          Florida State      OLB          TEN   \n",
            "447222      10/24/1994          Florida State       CB          TEN   \n",
            "447223      09/03/1995                   UCLA      OLB          TEN   \n",
            "447224      03/31/1995               Maryland       DE          TEN   \n",
            "447225      10/03/1995              Wisconsin       LB          TEN   \n",
            "447226      04/18/1997                Alabama       DB          TEN   \n",
            "447227      07/17/1988              Tennessee       TE          TEN   \n",
            "447228      07/02/1989                Georgia        C          TEN   \n",
            "447229      12/29/1989             Kent State        G          TEN   \n",
            "447230      07/22/1991               Michigan        T          TEN   \n",
            "447231      03/24/1992      Southern Illinois       TE          TEN   \n",
            "447232      10/30/1993                 Oregon       QB          TEN   \n",
            "447233      08/07/1991          West Virginia        G          TEN   \n",
            "447234      08/17/1994         Michigan State        T          TEN   \n",
            "447235      01/04/1994                Alabama       RB          TEN   \n",
            "447236      01/11/1995       Western Michigan       WR          TEN   \n",
            "447237      08/22/1995  Florida International       TE          TEN   \n",
            "\n",
            "       VisitorTeamAbbr  Week         Stadium       Location StadiumType  \\\n",
            "447216             JAX    14  Nissan Stadium  Nashville, TN    Outdoors   \n",
            "447217             JAX    14  Nissan Stadium  Nashville, TN    Outdoors   \n",
            "447218             JAX    14  Nissan Stadium  Nashville, TN    Outdoors   \n",
            "447219             JAX    14  Nissan Stadium  Nashville, TN    Outdoors   \n",
            "447220             JAX    14  Nissan Stadium  Nashville, TN    Outdoors   \n",
            "447221             JAX    14  Nissan Stadium  Nashville, TN    Outdoors   \n",
            "447222             JAX    14  Nissan Stadium  Nashville, TN    Outdoors   \n",
            "447223             JAX    14  Nissan Stadium  Nashville, TN    Outdoors   \n",
            "447224             JAX    14  Nissan Stadium  Nashville, TN    Outdoors   \n",
            "447225             JAX    14  Nissan Stadium  Nashville, TN    Outdoors   \n",
            "447226             JAX    14  Nissan Stadium  Nashville, TN    Outdoors   \n",
            "447227             JAX    14  Nissan Stadium  Nashville, TN    Outdoors   \n",
            "447228             JAX    14  Nissan Stadium  Nashville, TN    Outdoors   \n",
            "447229             JAX    14  Nissan Stadium  Nashville, TN    Outdoors   \n",
            "447230             JAX    14  Nissan Stadium  Nashville, TN    Outdoors   \n",
            "447231             JAX    14  Nissan Stadium  Nashville, TN    Outdoors   \n",
            "447232             JAX    14  Nissan Stadium  Nashville, TN    Outdoors   \n",
            "447233             JAX    14  Nissan Stadium  Nashville, TN    Outdoors   \n",
            "447234             JAX    14  Nissan Stadium  Nashville, TN    Outdoors   \n",
            "447235             JAX    14  Nissan Stadium  Nashville, TN    Outdoors   \n",
            "447236             JAX    14  Nissan Stadium  Nashville, TN    Outdoors   \n",
            "447237             JAX    14  Nissan Stadium  Nashville, TN    Outdoors   \n",
            "\n",
            "         Turf GameWeather  Temperature  Humidity WindSpeed WindDirection  \n",
            "447216  Grass       Clear         44.0      43.0         5           WSW  \n",
            "447217  Grass       Clear         44.0      43.0         5           WSW  \n",
            "447218  Grass       Clear         44.0      43.0         5           WSW  \n",
            "447219  Grass       Clear         44.0      43.0         5           WSW  \n",
            "447220  Grass       Clear         44.0      43.0         5           WSW  \n",
            "447221  Grass       Clear         44.0      43.0         5           WSW  \n",
            "447222  Grass       Clear         44.0      43.0         5           WSW  \n",
            "447223  Grass       Clear         44.0      43.0         5           WSW  \n",
            "447224  Grass       Clear         44.0      43.0         5           WSW  \n",
            "447225  Grass       Clear         44.0      43.0         5           WSW  \n",
            "447226  Grass       Clear         44.0      43.0         5           WSW  \n",
            "447227  Grass       Clear         44.0      43.0         5           WSW  \n",
            "447228  Grass       Clear         44.0      43.0         5           WSW  \n",
            "447229  Grass       Clear         44.0      43.0         5           WSW  \n",
            "447230  Grass       Clear         44.0      43.0         5           WSW  \n",
            "447231  Grass       Clear         44.0      43.0         5           WSW  \n",
            "447232  Grass       Clear         44.0      43.0         5           WSW  \n",
            "447233  Grass       Clear         44.0      43.0         5           WSW  \n",
            "447234  Grass       Clear         44.0      43.0         5           WSW  \n",
            "447235  Grass       Clear         44.0      43.0         5           WSW  \n",
            "447236  Grass       Clear         44.0      43.0         5           WSW  \n",
            "447237  Grass       Clear         44.0      43.0         5           WSW  \n"
          ],
          "name": "stdout"
        }
      ]
    },
    {
      "cell_type": "code",
      "metadata": {
        "id": "ICUElvzXIm0N",
        "colab_type": "code",
        "colab": {}
      },
      "source": [
        ""
      ],
      "execution_count": 0,
      "outputs": []
    }
  ]
}